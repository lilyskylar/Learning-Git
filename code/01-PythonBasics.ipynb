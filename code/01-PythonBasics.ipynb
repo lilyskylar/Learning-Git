{
 "cells": [
  {
   "cell_type": "code",
   "execution_count": 2,
   "metadata": {},
   "outputs": [
    {
     "name": "stdout",
     "output_type": "stream",
     "text": [
      "<class 'str'>\n",
      "<class 'int'>\n",
      "<class 'bool'>\n"
     ]
    }
   ],
   "source": [
    "#Determining type of a variable.\n",
    "\n",
    "x = \"Hello!\"\n",
    "y = 25\n",
    "z = True\n",
    "print(type(x))\n",
    "print(type(y))\n",
    "print(type(z))"
   ]
  },
  {
   "cell_type": "code",
   "execution_count": 3,
   "metadata": {},
   "outputs": [
    {
     "data": {
      "text/plain": [
       "7"
      ]
     },
     "execution_count": 3,
     "metadata": {},
     "output_type": "execute_result"
    }
   ],
   "source": [
    "#Types behave differently in Python.\n",
    "\n",
    "x = 2\n",
    "y = 5\n",
    "x + y"
   ]
  },
  {
   "cell_type": "code",
   "execution_count": 4,
   "metadata": {},
   "outputs": [
    {
     "data": {
      "text/plain": [
       "'abcd'"
      ]
     },
     "execution_count": 4,
     "metadata": {},
     "output_type": "execute_result"
    }
   ],
   "source": [
    "\n",
    "x = 'ab'\n",
    "y = 'cd'\n",
    "x + y"
   ]
  },
  {
   "cell_type": "code",
   "execution_count": 6,
   "metadata": {},
   "outputs": [
    {
     "name": "stdout",
     "output_type": "stream",
     "text": [
      "3.14\n",
      "<class 'float'>\n"
     ]
    }
   ],
   "source": [
    "#Type Conversions - convert string to float\n",
    "\n",
    "pi_string = '3.14'\n",
    "pi_float = float(pi_string)\n",
    "print(pi_float)\n",
    "print(type(pi_float))\n"
   ]
  },
  {
   "cell_type": "code",
   "execution_count": null,
   "metadata": {},
   "outputs": [],
   "source": [
    "# Python lists can contain multiple data types. It can be a mix of strings, floats, even lists.\n",
    "\n",
    "list1 = [\"a\",\"b\",\"c\"]\n",
    "list2 = [\"a\", 3, 5, True, \"cat\"]\n",
    "list3 = [[1,2],[\"a\", \"b\"], [True, 1]]\n"
   ]
  },
  {
   "cell_type": "code",
   "execution_count": 7,
   "metadata": {},
   "outputs": [
    {
     "name": "stdout",
     "output_type": "stream",
     "text": [
      "11.25\n",
      "bathroom\n",
      "[11.25, 'kitchen', 18.0, 'living room', 20.0, 'bedroom']\n",
      "['kitchen', 18.0, 'living room', 20.0, 'bedroom', 10.75, 'bathroom', 9.5]\n",
      "['hallway', 11.25, 'kitchen', 18.0, 'living room', 20.0, 'bedroom', 10.75, 'bathroom', 9.5]\n"
     ]
    }
   ],
   "source": [
    "# Subsetting lists\n",
    " #Zero based indexing (Element 1 == Index 0, Element 2 == Index 1 and so on)\n",
    " #Can select by negative indexing as well.\n",
    " #Can create subsets by slicing. In slicing, start is inclusive, but end is exclusive.\n",
    "    \n",
    "areas = [\"hallway\", 11.25, \"kitchen\", 18.0, \"living room\", 20.0, \"bedroom\", 10.75, \"bathroom\", 9.50] \n",
    "\n",
    "# Element 2 : 11.25\n",
    "print(areas[1])\n",
    "\n",
    "# Second last element (negative indexing) : \"bathroom\"\n",
    "print(areas[-2])\n",
    "\n",
    "#Slicing : Elements 11.25 to \"bedroom\". \n",
    "print(areas[1:7])\n",
    "\n",
    "#Slicing: All elements from \"kitchen\" and after including last element.\n",
    "print(areas[2:])\n",
    "\n",
    "#Slicing\": All elements \n",
    "print(areas[::])\n"
   ]
  },
  {
   "cell_type": "code",
   "execution_count": 9,
   "metadata": {},
   "outputs": [
    {
     "name": "stdout",
     "output_type": "stream",
     "text": [
      "C\n",
      "[100, 200]\n"
     ]
    }
   ],
   "source": [
    "#Subsetting list of lists - Same format as list. First index to select the sublist, followed by indexing within the sublist.\n",
    "\n",
    "x = [[1,2,3],[\"A\",\"B\",\"C\"], [100,200,300]]\n",
    "\n",
    "#To select C -  Index of sublist: 1, Index of Element C in sublist: 2\n",
    "\n",
    "print(x[1][2])\n",
    "\n",
    "#To slice 100,200 : Select sublist : 2, Slicing within sublist: 0:2\n",
    "print(x[2][0:2])\n",
    "\n",
    "\n",
    "\n"
   ]
  },
  {
   "cell_type": "code",
   "execution_count": 1,
   "metadata": {},
   "outputs": [
    {
     "data": {
      "text/plain": [
       "['hallway',\n",
       " 11.25,\n",
       " 'kitchen',\n",
       " 18.0,\n",
       " 'living room',\n",
       " 20.0,\n",
       " 'bedroom',\n",
       " 10.75,\n",
       " 'bathroom',\n",
       " 7.8]"
      ]
     },
     "execution_count": 1,
     "metadata": {},
     "output_type": "execute_result"
    }
   ],
   "source": [
    "#List manipulations\n",
    "\n",
    "# replace elements\n",
    "\n",
    "areas = [\"hallway\", 11.25, \"kitchen\", 18.0, \"living room\", 20.0, \"bedroom\", 10.75, \"bathroom\", 9.50]\n",
    "#replace bathroom area to 7.8\n",
    "\n",
    "areas[-1] = 7.8\n",
    "areas\n"
   ]
  },
  {
   "cell_type": "code",
   "execution_count": 2,
   "metadata": {},
   "outputs": [
    {
     "data": {
      "text/plain": [
       "['hallway',\n",
       " 11.25,\n",
       " 'kitchen',\n",
       " 18.0,\n",
       " 'living room',\n",
       " 20.0,\n",
       " 'bedroom',\n",
       " 10.75,\n",
       " 'bathroom',\n",
       " 7.8,\n",
       " 'poolspace',\n",
       " 17.5]"
      ]
     },
     "execution_count": 2,
     "metadata": {},
     "output_type": "execute_result"
    }
   ],
   "source": [
    "#add elements - add \"poolspace\", 17.5\n",
    "\n",
    "areas = areas + [\"poolspace\", 17.5]\n",
    "areas\n"
   ]
  },
  {
   "cell_type": "code",
   "execution_count": 6,
   "metadata": {},
   "outputs": [
    {
     "data": {
      "text/plain": [
       "['hallway',\n",
       " 11.25,\n",
       " 'kitchen',\n",
       " 18.0,\n",
       " 'living room',\n",
       " 20.0,\n",
       " 'bedroom',\n",
       " 10.75,\n",
       " 'bathroom',\n",
       " 7.8]"
      ]
     },
     "execution_count": 6,
     "metadata": {},
     "output_type": "execute_result"
    }
   ],
   "source": [
    "#delete elements - delete \"poolspace\" and 17.5\n",
    "\n",
    "del(areas[-1], areas[-1])\n",
    "areas"
   ]
  },
  {
   "cell_type": "code",
   "execution_count": 7,
   "metadata": {},
   "outputs": [
    {
     "name": "stdout",
     "output_type": "stream",
     "text": [
      "3\n"
     ]
    }
   ],
   "source": [
    "#Scope - Local and Global\n",
    "\n",
    "num = 5\n",
    "\n",
    "def func1():\n",
    "    num =3\n",
    "    print(num)\n",
    "func1()    \n",
    "    \n",
    "    \n"
   ]
  },
  {
   "cell_type": "code",
   "execution_count": 10,
   "metadata": {},
   "outputs": [
    {
     "name": "stdout",
     "output_type": "stream",
     "text": [
      "3\n"
     ]
    }
   ],
   "source": [
    "num = 5\n",
    "\n",
    "def func2():\n",
    "    global num\n",
    "    num = 3\n",
    "    print(num)\n",
    "func2()    "
   ]
  },
  {
   "cell_type": "code",
   "execution_count": 11,
   "metadata": {},
   "outputs": [
    {
     "data": {
      "text/plain": [
       "3"
      ]
     },
     "execution_count": 11,
     "metadata": {},
     "output_type": "execute_result"
    }
   ],
   "source": [
    "num"
   ]
  },
  {
   "cell_type": "code",
   "execution_count": 7,
   "metadata": {},
   "outputs": [
    {
     "name": "stdout",
     "output_type": "stream",
     "text": [
      "jay garrick\n",
      "barry allen\n",
      "wally west\n",
      "bart allen\n",
      "jay garrick\n",
      "barry allen\n",
      "wally west\n",
      "bart allen\n"
     ]
    },
    {
     "ename": "StopIteration",
     "evalue": "",
     "output_type": "error",
     "traceback": [
      "\u001b[0;31m---------------------------------------------------------------------------\u001b[0m",
      "\u001b[0;31mStopIteration\u001b[0m                             Traceback (most recent call last)",
      "\u001b[0;32m<ipython-input-7-d4802460252c>\u001b[0m in \u001b[0;36m<module>\u001b[0;34m()\u001b[0m\n\u001b[1;32m     16\u001b[0m \u001b[0mprint\u001b[0m\u001b[0;34m(\u001b[0m\u001b[0mnext\u001b[0m\u001b[0;34m(\u001b[0m\u001b[0mname\u001b[0m\u001b[0;34m)\u001b[0m\u001b[0;34m)\u001b[0m\u001b[0;34m\u001b[0m\u001b[0m\n\u001b[1;32m     17\u001b[0m \u001b[0mprint\u001b[0m\u001b[0;34m(\u001b[0m\u001b[0mnext\u001b[0m\u001b[0;34m(\u001b[0m\u001b[0mname\u001b[0m\u001b[0;34m)\u001b[0m\u001b[0;34m)\u001b[0m\u001b[0;34m\u001b[0m\u001b[0m\n\u001b[0;32m---> 18\u001b[0;31m \u001b[0mprint\u001b[0m\u001b[0;34m(\u001b[0m\u001b[0mnext\u001b[0m\u001b[0;34m(\u001b[0m\u001b[0mname\u001b[0m\u001b[0;34m)\u001b[0m\u001b[0;34m)\u001b[0m\u001b[0;34m\u001b[0m\u001b[0m\n\u001b[0m\u001b[1;32m     19\u001b[0m \u001b[0;34m\u001b[0m\u001b[0m\n\u001b[1;32m     20\u001b[0m \u001b[0;34m\u001b[0m\u001b[0m\n",
      "\u001b[0;31mStopIteration\u001b[0m: "
     ]
    }
   ],
   "source": [
    "#Iterables and iterators\n",
    "#Iterating over iterables.\n",
    "\n",
    "flash = ['jay garrick', 'barry allen', 'wally west', 'bart allen']\n",
    "\n",
    "#for loop method\n",
    "\n",
    "for name in flash:\n",
    "    print(name)\n",
    "    \n",
    "#generating an iterator\n",
    "\n",
    "name = iter(flash)\n",
    "print(next(name))\n",
    "print(next(name))\n",
    "print(next(name))\n",
    "print(next(name))\n",
    "print(next(name))\n",
    "\n",
    "\n"
   ]
  },
  {
   "cell_type": "code",
   "execution_count": 9,
   "metadata": {},
   "outputs": [
    {
     "name": "stdout",
     "output_type": "stream",
     "text": [
      "[10, 11, 12, 13, 14, 15, 16, 17, 18, 19]\n",
      "145\n"
     ]
    }
   ],
   "source": [
    "#Iterators as function arguments\n",
    "\n",
    "#Create a range object that would produce the values from 10 to 20 using range(). Assign the result to values.\n",
    "values =range(10,20)\n",
    "\n",
    "#Use the list() function to create a list of values from the range object values. Assign the result to values_list\n",
    "values_list = list(values)\n",
    "\n",
    "#Use the sum() function to get the sum of the values from 10 to 20 from the range object values.\n",
    "#Assign the result to values_sum\n",
    "\n",
    "values_sum = sum(values)\n",
    "\n",
    "print(values_list)\n",
    "print(values_sum)"
   ]
  },
  {
   "cell_type": "code",
   "execution_count": 13,
   "metadata": {},
   "outputs": [
    {
     "name": "stdout",
     "output_type": "stream",
     "text": [
      "﻿Git ready in 20 minutes\n",
      "\n",
      "\n",
      "\n",
      "When I began my journey towards Data Science, a close friend and mentor advised me to get familiarized with git. It seemed like a distraction, but I thought, “It’s a version control system. Surely I can learn in 2-3 days and return to the beautiful world of Python.” I couldn’t have been more wrong. My 2 days short trip away from Python turned into a 3-month vacation. I certainly do not regret the time spent, as there is no denying the importance of learning git. The significance of git for every programmer has been well described in several excellent blogs and I am not going to reiterate the same here. \n",
      "\n"
     ]
    }
   ],
   "source": [
    "with open ('git.txt', 'r') as git:\n",
    "    print(git.readline())\n",
    "    print(git.readline())\n",
    "    print(git.readline())"
   ]
  },
  {
   "cell_type": "code",
   "execution_count": null,
   "metadata": {},
   "outputs": [],
   "source": []
  }
 ],
 "metadata": {
  "kernelspec": {
   "display_name": "Python 3",
   "language": "python",
   "name": "python3"
  },
  "language_info": {
   "codemirror_mode": {
    "name": "ipython",
    "version": 3
   },
   "file_extension": ".py",
   "mimetype": "text/x-python",
   "name": "python",
   "nbconvert_exporter": "python",
   "pygments_lexer": "ipython3",
   "version": "3.6.4"
  }
 },
 "nbformat": 4,
 "nbformat_minor": 2
}
